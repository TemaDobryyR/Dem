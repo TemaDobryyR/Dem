{
 "cells": [
  {
   "cell_type": "code",
   "execution_count": 18,
   "metadata": {},
   "outputs": [],
   "source": [
    "%reload_ext autoreload\n",
    "%autoreload 2"
   ]
  },
  {
   "cell_type": "code",
   "execution_count": 33,
   "metadata": {},
   "outputs": [],
   "source": [
    "from demo_output import output"
   ]
  },
  {
   "cell_type": "code",
   "execution_count": 54,
   "metadata": {},
   "outputs": [],
   "source": [
    "import itertools\n",
    "from crf_entity_extractor import CrfEntityExtractor\n",
    "from nltk.tokenize import sent_tokenize\n",
    "from nltk import word_tokenize\n",
    "from nltk.tokenize.punkt import PunktSentenceTokenizer, PunktParameters\n",
    "\n",
    "# Loading model\n",
    "crf_loaded = CrfEntityExtractor()\n",
    "crf_loaded.load_model('CRF_address_ner')\n",
    "\n",
    "def output(text, model = crf_loaded):\n",
    "    \"\"\" Args:\n",
    "            (str) 'Jonh love Paris' \n",
    "\n",
    "        Returns:\n",
    "            (dict) { 'text': 'Jonh love Paris', \n",
    "                     'tags': ['PESSOA', '0', 'LOCAL']}\n",
    "    \"\"\"\n",
    "    # Tokenize text into sentence\n",
    "    #sentences = sent_tokenize(text) # нужные предложения\n",
    "    \n",
    "    punkt_param = PunktParameters()\n",
    "    with open(\"./abbrev_list.pkl\", \"rb\") as fp: # открыть какой-то хуй знает какой файл\n",
    "        abbrev_list = pickle.load(fp)\n",
    "        punkt_param.abbrev_types = set(abbrev_list)\n",
    "        tokenizer = PunktSentenceTokenizer(punkt_param)\n",
    "        tokenizer.train(text)\n",
    "        \n",
    "    all_sentences = tokenizer.tokenize(text)\n",
    "\n",
    "    seen = set()\n",
    "    sentences = []\n",
    "    for sentence in all_sentences:\n",
    "        if sentence not in seen:\n",
    "            seen.add(sentence)\n",
    "            sentences.append(sentence)\n",
    "            \n",
    "    for sentence in sentences:\n",
    "        words = word_tokenize(sentence, language='portuguese')\n",
    "        for word in words:\n",
    "            print(word)\n",
    "    \n",
    "    # Predict labels and make output\n",
    "    #predicted_labels = [model.predict(sentence) for sentence in sentences]\n",
    "    \n",
    "    #print(predicted_labels) # список списков\n",
    "    \n",
    "    #for sentence in senten\n",
    "    \n",
    "    #output = dict(zip(sentences, predicted_labels))\n",
    "    \n",
    "    return output"
   ]
  },
  {
   "cell_type": "code",
   "execution_count": 49,
   "metadata": {},
   "outputs": [],
   "source": []
  },
  {
   "cell_type": "code",
   "execution_count": null,
   "metadata": {},
   "outputs": [],
   "source": [
    "\n",
    "for sentence in sentences:\n",
    "    words = word_tokenize(sentence, language='portuguese')\n",
    "    for word in words:\n",
    "        print(word)"
   ]
  },
  {
   "cell_type": "code",
   "execution_count": 52,
   "metadata": {
    "scrolled": true
   },
   "outputs": [
    {
     "name": "stdout",
     "output_type": "stream",
     "text": [
      "[['TEMPO', 'TEMPO', 'O', 'O', 'O', 'O', 'O', 'O', 'LOCAL', 'LOCAL', 'O', 'TEMPO', 'TEMPO', 'TEMPO', 'TEMPO', 'TEMPO', 'TEMPO', 'O', 'O', 'O', 'O', 'O', 'PESSOA', 'PESSOA', 'O', 'O', 'O', 'O', 'O', 'O', 'O', 'O', 'O', 'O', 'O', 'O', 'O', 'PESSOA', 'PESSOA', 'O', 'O', 'O', 'O', 'O', 'O', 'O', 'O'], ['O', 'O', 'O', 'O', 'O', 'O', 'O', 'O', 'TEMPO', 'TEMPO', 'O', 'O', 'O', 'O', 'O', 'O', 'O', 'O', 'O', 'O', 'O', 'O', 'O', 'O', 'O'], ['O', 'O', 'O', 'O', 'O', 'O', 'O', 'O', 'O', 'O', 'O', 'O', 'O', 'O', 'O', 'O', 'O', 'O', 'O', 'O', 'O', 'O', 'O', 'O', 'O', 'O', 'LOCAL', 'O', 'LOCAL', 'O', 'O', 'O', 'O', 'O', 'O', 'O', 'O', 'O', 'O', 'O', 'O', 'O', 'O'], ['O', 'O', 'O', 'O', 'O', 'O', 'PESSOA', 'PESSOA', 'O', 'O', 'O', 'O', 'O', 'O', 'O', 'O', 'PESSOA', 'PESSOA', 'O', 'LOCAL', 'LOCAL', 'O', 'O', 'O', 'O', 'O', 'O', 'O', 'O', 'O', 'O', 'O', 'O', 'O', 'O', 'LOCAL', 'O', 'O', 'O', 'O', 'O', 'O', 'O']]\n"
     ]
    },
    {
     "data": {
      "text/plain": [
       "{'Durante a 23ª parada do orgulho LGBT de São Paulo, neste domingo (23 jun 2019), o deputado federal David Miranda (PSOL-RJ) afirmou que a parada LGBT representa um recado ao presidente Jair Bolsonaro e uma resposta ao momento político nacional.': 'TEMPO',\n",
       " '“A Parada acontece em momento crucial porque temos hoje um presidente que é um nêmesis contra a nossa população, ele é LGBTfóbico.': 'TEMPO',\n",
       " 'Estamos resistindo na rua, mas com alegria, com famílias, amigos e irmãos, mas com o punho cerrado e mandando o recado: Ei, Bolsonaro, você vai cair pelas mãos dos LGBT”, afirmou o deputado.': 'O',\n",
       " 'O deputado e marido do jornalista Glenn Greenwald, autor da publicação de mensagens vazadas entre Sérgio Moro e Deltan Dallagnol, compareceu à marcha do orgulho LGBT e disparou declarações contra o presidente da República, conforme informa o portal Yahoo.': 'O'}"
      ]
     },
     "execution_count": 52,
     "metadata": {},
     "output_type": "execute_result"
    }
   ],
   "source": [
    "output('Durante a 23ª parada do orgulho LGBT de São Paulo, neste domingo (23 jun 2019), o deputado federal David Miranda (PSOL-RJ) afirmou que a parada LGBT representa um recado ao presidente Jair Bolsonaro e uma resposta ao momento político nacional. “A Parada acontece em momento crucial porque temos hoje um presidente que é um nêmesis contra a nossa população, ele é LGBTfóbico. Estamos resistindo na rua, mas com alegria, com famílias, amigos e irmãos, mas com o punho cerrado e mandando o recado: Ei, Bolsonaro, você vai cair pelas mãos dos LGBT”, afirmou o deputado. O deputado e marido do jornalista Glenn Greenwald, autor da publicação de mensagens vazadas entre Sérgio Moro e Deltan Dallagnol, compareceu à marcha do orgulho LGBT e disparou declarações contra o presidente da República, conforme informa o portal Yahoo.')"
   ]
  },
  {
   "cell_type": "code",
   "execution_count": 36,
   "metadata": {},
   "outputs": [
    {
     "data": {
      "text/plain": [
       "{'O ministro da Economia, Paulo Guedes, estimou que as mudanças no mercado brasileiro de gás, aprovadas nesta segunda-feira (24 jun 2019) pelo Conselho Nacional de Política Energética (CNPE) representam uma quebra de monopólios na produção e distribuição do insumo no Brasil.': 'O'}"
      ]
     },
     "execution_count": 36,
     "metadata": {},
     "output_type": "execute_result"
    }
   ],
   "source": [
    "output('O ministro da Economia, Paulo Guedes, estimou que as mudanças no mercado brasileiro de gás, aprovadas nesta segunda-feira (24 jun 2019) pelo Conselho Nacional de Política Energética (CNPE) representam uma quebra de monopólios na produção e distribuição do insumo no Brasil.')"
   ]
  },
  {
   "cell_type": "code",
   "execution_count": 39,
   "metadata": {},
   "outputs": [
    {
     "data": {
      "text/plain": [
       "{'Em entrevista à Gazeta do Povo, o ex-senador Roberto Requião foi questionado sobre uma possível mudança de partido, em especial para o PT.': 'O'}"
      ]
     },
     "execution_count": 39,
     "metadata": {},
     "output_type": "execute_result"
    }
   ],
   "source": [
    "output('Em entrevista à Gazeta do Povo, o ex-senador Roberto Requião foi questionado sobre uma possível mudança de partido, em especial para o PT.')"
   ]
  },
  {
   "cell_type": "code",
   "execution_count": 38,
   "metadata": {},
   "outputs": [
    {
     "data": {
      "text/plain": [
       "{'Prorrogação.': 'O',\n",
       " 'Jogo feio, truncado, empurra-empurra para todos os lados.': 'O',\n",
       " 'Cansada, a seleção brasileira feminina resiste como pode aos avanços das francesas.': 'O',\n",
       " 'Mas uma hora a casa iria cair.': 'O',\n",
       " 'Amandine Henry — sobrenome maldito!': 'O',\n",
       " '— não perdoou a falha da zaga e, após cruzamento, selou o destino de Marta, Formiga e cia.': 'O',\n",
       " '2×1 para as anfitriãs e fim do sonho das canarinhas.': 'O'}"
      ]
     },
     "execution_count": 38,
     "metadata": {},
     "output_type": "execute_result"
    }
   ],
   "source": [
    "output('Prorrogação. Jogo feio, truncado, empurra-empurra para todos os lados. Cansada, a seleção brasileira feminina resiste como pode aos avanços das francesas. Mas uma hora a casa iria cair. Amandine Henry — sobrenome maldito! — não perdoou a falha da zaga e, após cruzamento, selou o destino de Marta, Formiga e cia. 2×1 para as anfitriãs e fim do sonho das canarinhas.')"
   ]
  },
  {
   "cell_type": "code",
   "execution_count": null,
   "metadata": {},
   "outputs": [],
   "source": []
  }
 ],
 "metadata": {
  "kernelspec": {
   "display_name": "Python 3",
   "language": "python",
   "name": "python3"
  },
  "language_info": {
   "codemirror_mode": {
    "name": "ipython",
    "version": 3
   },
   "file_extension": ".py",
   "mimetype": "text/x-python",
   "name": "python",
   "nbconvert_exporter": "python",
   "pygments_lexer": "ipython3",
   "version": "3.6.5"
  }
 },
 "nbformat": 4,
 "nbformat_minor": 2
}
